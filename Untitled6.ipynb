{
  "nbformat": 4,
  "nbformat_minor": 0,
  "metadata": {
    "colab": {
      "provenance": [],
      "authorship_tag": "ABX9TyMgC8lPIvUuBrUdzV8yjoUF",
      "include_colab_link": true
    },
    "kernelspec": {
      "name": "python3",
      "display_name": "Python 3"
    },
    "language_info": {
      "name": "python"
    }
  },
  "cells": [
    {
      "cell_type": "markdown",
      "metadata": {
        "id": "view-in-github",
        "colab_type": "text"
      },
      "source": [
        "<a href=\"https://colab.research.google.com/github/Varshithkt/Real-Time-AI-Sales-Call-Assistant-for-Enhanced-Conversation-Strategies/blob/main/Untitled6.ipynb\" target=\"_parent\"><img src=\"https://colab.research.google.com/assets/colab-badge.svg\" alt=\"Open In Colab\"/></a>"
      ]
    },
    {
      "cell_type": "code",
      "execution_count": null,
      "metadata": {
        "colab": {
          "base_uri": "https://localhost:8080/"
        },
        "id": "mHxzvY_43OQX",
        "outputId": "3dbae355-6e06-4e1c-9803-04031c67d0b6"
      },
      "outputs": [
        {
          "output_type": "stream",
          "name": "stdout",
          "text": [
            "Enter the license plate number: ABC1234\n",
            "Details for License Plate: ABC1234\n",
            "\n",
            "License Plate Information:\n",
            "   plate_id plate_number owner_name vehicle_type registration_date\n",
            "0         1      ABC1234   John Doe        Sedan        2020-05-15\n",
            "\n",
            "Emission Details:\n",
            "   emission_id  plate_id emission_date  emission_level emission_standard\n",
            "0            1         1    2023-06-10             1.2            Euro 6\n",
            "\n",
            "Fine Details:\n",
            "   fine_id  plate_id   fine_date  fine_amount fine_reason  is_paid\n",
            "0        1         1  2024-01-05        200.0    Speeding     True\n"
          ]
        }
      ],
      "source": [
        "# Import necessary libraries\n",
        "import pandas as pd\n",
        "\n",
        "# Load the datasets (replace with actual file paths in your Google Drive if needed)\n",
        "license_plate_df = pd.read_csv('/content/LicensePlate.csv')\n",
        "emission_details_df = pd.read_csv('/content/EmissionDetails.csv')\n",
        "fine_details_df = pd.read_csv('/content/FineDetails.csv')\n",
        "\n",
        "\n",
        "# Function to fetch details based on license plate number\n",
        "def get_license_plate_details(plate_number):\n",
        "    # Find the plate ID based on the license plate number\n",
        "    license_plate = license_plate_df[license_plate_df['plate_number'] == plate_number]\n",
        "\n",
        "    if license_plate.empty:\n",
        "        print(f\"No details found for license plate: {plate_number}\")\n",
        "        return\n",
        "\n",
        "    plate_id = license_plate.iloc[0]['plate_id']\n",
        "    print(f\"Details for License Plate: {plate_number}\")\n",
        "    print(\"\\nLicense Plate Information:\")\n",
        "    print(license_plate)\n",
        "\n",
        "    # Fetch emission details\n",
        "    emission_details = emission_details_df[emission_details_df['plate_id'] == plate_id]\n",
        "    print(\"\\nEmission Details:\")\n",
        "    if emission_details.empty:\n",
        "        print(\"No emission details available.\")\n",
        "    else:\n",
        "        print(emission_details)\n",
        "\n",
        "    # Fetch fine details\n",
        "    fine_details = fine_details_df[fine_details_df['plate_id'] == plate_id]\n",
        "    print(\"\\nFine Details:\")\n",
        "    if fine_details.empty:\n",
        "        print(\"No fine details available.\")\n",
        "    else:\n",
        "        print(fine_details)\n",
        "\n",
        "\n",
        "\n",
        "# Input: License Plate Number\n",
        "plate_number = input(\"Enter the license plate number: \").strip()\n",
        "get_license_plate_details(plate_number)\n"
      ]
    }
  ]
}